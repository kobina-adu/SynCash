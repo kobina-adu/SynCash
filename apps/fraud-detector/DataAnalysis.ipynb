{
 "cells": [
  {
   "cell_type": "markdown",
   "id": "76aec234",
   "metadata": {},
   "source": [
    "## Importing relevant libraries"
   ]
  },
  {
   "cell_type": "code",
   "execution_count": 30,
   "id": "841de65b",
   "metadata": {},
   "outputs": [],
   "source": [
    "import pandas as pd\n",
    "import numpy as np\n",
    "import matplotlib as plt\n",
    "import seaborn as sns"
   ]
  },
  {
   "cell_type": "markdown",
   "id": "49738c6f",
   "metadata": {},
   "source": [
    "### Auxilliary Settings"
   ]
  },
  {
   "cell_type": "code",
   "execution_count": 31,
   "id": "6daf5faf",
   "metadata": {},
   "outputs": [],
   "source": [
    "import warnings\n",
    "\n",
    "warnings.filterwarnings(\"ignore\")\n",
    "\n",
    "sns.set_style(style=\"whitegrid\")"
   ]
  },
  {
   "cell_type": "code",
   "execution_count": 56,
   "id": "6eb00a4e",
   "metadata": {},
   "outputs": [
    {
     "data": {
      "text/html": [
       "<div>\n",
       "<style scoped>\n",
       "    .dataframe tbody tr th:only-of-type {\n",
       "        vertical-align: middle;\n",
       "    }\n",
       "\n",
       "    .dataframe tbody tr th {\n",
       "        vertical-align: top;\n",
       "    }\n",
       "\n",
       "    .dataframe thead th {\n",
       "        text-align: right;\n",
       "    }\n",
       "</style>\n",
       "<table border=\"1\" class=\"dataframe\">\n",
       "  <thead>\n",
       "    <tr style=\"text-align: right;\">\n",
       "      <th></th>\n",
       "      <th>Transaction_ID</th>\n",
       "      <th>User_ID</th>\n",
       "      <th>Transaction_Amount</th>\n",
       "      <th>Transaction_Type</th>\n",
       "      <th>Timestamp</th>\n",
       "      <th>Account_Balance</th>\n",
       "      <th>Device_Type</th>\n",
       "      <th>Location</th>\n",
       "      <th>Merchant_Category</th>\n",
       "      <th>IP_Address_Flag</th>\n",
       "      <th>...</th>\n",
       "      <th>Daily_Transaction_Count</th>\n",
       "      <th>Avg_Transaction_Amount_7d</th>\n",
       "      <th>Failed_Transaction_Count_7d</th>\n",
       "      <th>Card_Type</th>\n",
       "      <th>Card_Age</th>\n",
       "      <th>Transaction_Distance</th>\n",
       "      <th>Authentication_Method</th>\n",
       "      <th>Risk_Score</th>\n",
       "      <th>Is_Weekend</th>\n",
       "      <th>Fraud_Label</th>\n",
       "    </tr>\n",
       "  </thead>\n",
       "  <tbody>\n",
       "    <tr>\n",
       "      <th>0</th>\n",
       "      <td>TXN_33553</td>\n",
       "      <td>USER_1834</td>\n",
       "      <td>39.79</td>\n",
       "      <td>POS</td>\n",
       "      <td>2023-08-14 19:30:00</td>\n",
       "      <td>93213.17</td>\n",
       "      <td>Laptop</td>\n",
       "      <td>Sydney</td>\n",
       "      <td>Travel</td>\n",
       "      <td>0</td>\n",
       "      <td>...</td>\n",
       "      <td>7</td>\n",
       "      <td>437.63</td>\n",
       "      <td>3</td>\n",
       "      <td>Amex</td>\n",
       "      <td>65</td>\n",
       "      <td>883.17</td>\n",
       "      <td>Biometric</td>\n",
       "      <td>0.8494</td>\n",
       "      <td>0</td>\n",
       "      <td>0</td>\n",
       "    </tr>\n",
       "    <tr>\n",
       "      <th>1</th>\n",
       "      <td>TXN_9427</td>\n",
       "      <td>USER_7875</td>\n",
       "      <td>1.19</td>\n",
       "      <td>Bank Transfer</td>\n",
       "      <td>2023-06-07 04:01:00</td>\n",
       "      <td>75725.25</td>\n",
       "      <td>Mobile</td>\n",
       "      <td>New York</td>\n",
       "      <td>Clothing</td>\n",
       "      <td>0</td>\n",
       "      <td>...</td>\n",
       "      <td>13</td>\n",
       "      <td>478.76</td>\n",
       "      <td>4</td>\n",
       "      <td>Mastercard</td>\n",
       "      <td>186</td>\n",
       "      <td>2203.36</td>\n",
       "      <td>Password</td>\n",
       "      <td>0.0959</td>\n",
       "      <td>0</td>\n",
       "      <td>1</td>\n",
       "    </tr>\n",
       "    <tr>\n",
       "      <th>2</th>\n",
       "      <td>TXN_199</td>\n",
       "      <td>USER_2734</td>\n",
       "      <td>28.96</td>\n",
       "      <td>Online</td>\n",
       "      <td>2023-06-20 15:25:00</td>\n",
       "      <td>1588.96</td>\n",
       "      <td>Tablet</td>\n",
       "      <td>Mumbai</td>\n",
       "      <td>Restaurants</td>\n",
       "      <td>0</td>\n",
       "      <td>...</td>\n",
       "      <td>14</td>\n",
       "      <td>50.01</td>\n",
       "      <td>4</td>\n",
       "      <td>Visa</td>\n",
       "      <td>226</td>\n",
       "      <td>1909.29</td>\n",
       "      <td>Biometric</td>\n",
       "      <td>0.8400</td>\n",
       "      <td>0</td>\n",
       "      <td>1</td>\n",
       "    </tr>\n",
       "    <tr>\n",
       "      <th>3</th>\n",
       "      <td>TXN_12447</td>\n",
       "      <td>USER_2617</td>\n",
       "      <td>254.32</td>\n",
       "      <td>ATM Withdrawal</td>\n",
       "      <td>2023-12-07 00:31:00</td>\n",
       "      <td>76807.20</td>\n",
       "      <td>Tablet</td>\n",
       "      <td>New York</td>\n",
       "      <td>Clothing</td>\n",
       "      <td>0</td>\n",
       "      <td>...</td>\n",
       "      <td>8</td>\n",
       "      <td>182.48</td>\n",
       "      <td>4</td>\n",
       "      <td>Visa</td>\n",
       "      <td>76</td>\n",
       "      <td>1311.86</td>\n",
       "      <td>OTP</td>\n",
       "      <td>0.7935</td>\n",
       "      <td>0</td>\n",
       "      <td>1</td>\n",
       "    </tr>\n",
       "    <tr>\n",
       "      <th>4</th>\n",
       "      <td>TXN_39489</td>\n",
       "      <td>USER_2014</td>\n",
       "      <td>31.28</td>\n",
       "      <td>POS</td>\n",
       "      <td>2023-11-11 23:44:00</td>\n",
       "      <td>92354.66</td>\n",
       "      <td>Mobile</td>\n",
       "      <td>Mumbai</td>\n",
       "      <td>Electronics</td>\n",
       "      <td>0</td>\n",
       "      <td>...</td>\n",
       "      <td>14</td>\n",
       "      <td>328.69</td>\n",
       "      <td>4</td>\n",
       "      <td>Mastercard</td>\n",
       "      <td>140</td>\n",
       "      <td>966.98</td>\n",
       "      <td>Password</td>\n",
       "      <td>0.3819</td>\n",
       "      <td>1</td>\n",
       "      <td>1</td>\n",
       "    </tr>\n",
       "  </tbody>\n",
       "</table>\n",
       "<p>5 rows × 21 columns</p>\n",
       "</div>"
      ],
      "text/plain": [
       "  Transaction_ID    User_ID  Transaction_Amount Transaction_Type  \\\n",
       "0      TXN_33553  USER_1834               39.79              POS   \n",
       "1       TXN_9427  USER_7875                1.19    Bank Transfer   \n",
       "2        TXN_199  USER_2734               28.96           Online   \n",
       "3      TXN_12447  USER_2617              254.32   ATM Withdrawal   \n",
       "4      TXN_39489  USER_2014               31.28              POS   \n",
       "\n",
       "             Timestamp  Account_Balance Device_Type  Location  \\\n",
       "0  2023-08-14 19:30:00         93213.17      Laptop    Sydney   \n",
       "1  2023-06-07 04:01:00         75725.25      Mobile  New York   \n",
       "2  2023-06-20 15:25:00          1588.96      Tablet    Mumbai   \n",
       "3  2023-12-07 00:31:00         76807.20      Tablet  New York   \n",
       "4  2023-11-11 23:44:00         92354.66      Mobile    Mumbai   \n",
       "\n",
       "  Merchant_Category  IP_Address_Flag  ...  Daily_Transaction_Count  \\\n",
       "0            Travel                0  ...                        7   \n",
       "1          Clothing                0  ...                       13   \n",
       "2       Restaurants                0  ...                       14   \n",
       "3          Clothing                0  ...                        8   \n",
       "4       Electronics                0  ...                       14   \n",
       "\n",
       "   Avg_Transaction_Amount_7d  Failed_Transaction_Count_7d   Card_Type  \\\n",
       "0                     437.63                            3        Amex   \n",
       "1                     478.76                            4  Mastercard   \n",
       "2                      50.01                            4        Visa   \n",
       "3                     182.48                            4        Visa   \n",
       "4                     328.69                            4  Mastercard   \n",
       "\n",
       "  Card_Age  Transaction_Distance  Authentication_Method Risk_Score  \\\n",
       "0       65                883.17              Biometric     0.8494   \n",
       "1      186               2203.36               Password     0.0959   \n",
       "2      226               1909.29              Biometric     0.8400   \n",
       "3       76               1311.86                    OTP     0.7935   \n",
       "4      140                966.98               Password     0.3819   \n",
       "\n",
       "   Is_Weekend  Fraud_Label  \n",
       "0           0            0  \n",
       "1           0            1  \n",
       "2           0            1  \n",
       "3           0            1  \n",
       "4           1            1  \n",
       "\n",
       "[5 rows x 21 columns]"
      ]
     },
     "execution_count": 56,
     "metadata": {},
     "output_type": "execute_result"
    }
   ],
   "source": [
    "df = pd.read_csv(\".\\\\Datasets\\\\synthetic_fraud_dataset.csv\")\n",
    "\n",
    "df.head()"
   ]
  },
  {
   "cell_type": "code",
   "execution_count": 33,
   "id": "2527a0bf",
   "metadata": {},
   "outputs": [
    {
     "name": "stdout",
     "output_type": "stream",
     "text": [
      "<class 'pandas.core.frame.DataFrame'>\n",
      "RangeIndex: 50000 entries, 0 to 49999\n",
      "Data columns (total 21 columns):\n",
      " #   Column                        Non-Null Count  Dtype  \n",
      "---  ------                        --------------  -----  \n",
      " 0   Transaction_ID                50000 non-null  object \n",
      " 1   User_ID                       50000 non-null  object \n",
      " 2   Transaction_Amount            50000 non-null  float64\n",
      " 3   Transaction_Type              50000 non-null  object \n",
      " 4   Timestamp                     50000 non-null  object \n",
      " 5   Account_Balance               50000 non-null  float64\n",
      " 6   Device_Type                   50000 non-null  object \n",
      " 7   Location                      50000 non-null  object \n",
      " 8   Merchant_Category             50000 non-null  object \n",
      " 9   IP_Address_Flag               50000 non-null  int64  \n",
      " 10  Previous_Fraudulent_Activity  50000 non-null  int64  \n",
      " 11  Daily_Transaction_Count       50000 non-null  int64  \n",
      " 12  Avg_Transaction_Amount_7d     50000 non-null  float64\n",
      " 13  Failed_Transaction_Count_7d   50000 non-null  int64  \n",
      " 14  Card_Type                     50000 non-null  object \n",
      " 15  Card_Age                      50000 non-null  int64  \n",
      " 16  Transaction_Distance          50000 non-null  float64\n",
      " 17  Authentication_Method         50000 non-null  object \n",
      " 18  Risk_Score                    50000 non-null  float64\n",
      " 19  Is_Weekend                    50000 non-null  int64  \n",
      " 20  Fraud_Label                   50000 non-null  int64  \n",
      "dtypes: float64(5), int64(7), object(9)\n",
      "memory usage: 8.0+ MB\n"
     ]
    }
   ],
   "source": [
    "df.info()"
   ]
  },
  {
   "cell_type": "code",
   "execution_count": 34,
   "id": "aec1f8c6",
   "metadata": {},
   "outputs": [
    {
     "data": {
      "text/plain": [
       "Fraud_Label\n",
       "0    33933\n",
       "1    16067\n",
       "Name: count, dtype: int64"
      ]
     },
     "execution_count": 34,
     "metadata": {},
     "output_type": "execute_result"
    }
   ],
   "source": [
    "df[\"Fraud_Label\"].value_counts()"
   ]
  },
  {
   "cell_type": "code",
   "execution_count": 35,
   "id": "88551938",
   "metadata": {},
   "outputs": [
    {
     "data": {
      "text/plain": [
       "(50000, 21)"
      ]
     },
     "execution_count": 35,
     "metadata": {},
     "output_type": "execute_result"
    }
   ],
   "source": [
    "df.shape"
   ]
  },
  {
   "cell_type": "code",
   "execution_count": 36,
   "id": "5ab1d92b",
   "metadata": {},
   "outputs": [
    {
     "name": "stdout",
     "output_type": "stream",
     "text": [
      "32.134\n"
     ]
    }
   ],
   "source": [
    "fraud_ratio = 100 * df[\"Fraud_Label\"].value_counts()[1] / df.shape[0]\n",
    "\n",
    "print(fraud_ratio)"
   ]
  },
  {
   "cell_type": "code",
   "execution_count": 37,
   "id": "40825f50",
   "metadata": {},
   "outputs": [
    {
     "data": {
      "text/plain": [
       "<Axes: title={'center': 'Transaction Type'}, xlabel='Transaction_Type'>"
      ]
     },
     "execution_count": 37,
     "metadata": {},
     "output_type": "execute_result"
    },
    {
     "data": {
      "image/png": "[encoded data removed]",
      "text/plain": [
       "<Figure size 640x480 with 1 Axes>"
      ]
     },
     "metadata": {},
     "output_type": "display_data"
    }
   ],
   "source": [
    "df[\"Transaction_Type\"].value_counts().plot(kind=\"bar\", title=\"Transaction Type\")\n",
    "# plt.xlabel(\"Type\")\n",
    "# plt.ylabel(\"Count\")\n",
    "# plt.show()"
   ]
  },
  {
   "cell_type": "code",
   "execution_count": 38,
   "id": "772443d3",
   "metadata": {},
   "outputs": [
    {
     "data": {
      "text/plain": [
       "<Axes: title={'center': 'Fraud Rate by Transaction Type'}, xlabel='Type', ylabel='Fraud Rates'>"
      ]
     },
     "execution_count": 38,
     "metadata": {},
     "output_type": "execute_result"
    },
    {
     "data": {
      "image/png": "[encoded data removed]",
      "text/plain": [
       "<Figure size 640x480 with 1 Axes>"
      ]
     },
     "metadata": {},
     "output_type": "display_data"
    }
   ],
   "source": [
    "fraud_by_type = df.groupby(\"Transaction_Type\")['Fraud_Label'].mean().sort_values(ascending=False)\n",
    "\n",
    "fraud_by_type.plot(kind=\"bar\", title=\"Fraud Rate by Transaction Type\", ylabel=\"Fraud Rates\", xlabel=\"Type\")"
   ]
  },
  {
   "cell_type": "code",
   "execution_count": 39,
   "id": "c528239b",
   "metadata": {},
   "outputs": [
    {
     "data": {
      "text/plain": [
       "count    50000\n",
       "mean        99\n",
       "std         98\n",
       "min          0\n",
       "25%         28\n",
       "50%         69\n",
       "75%        138\n",
       "max       1174\n",
       "Name: Transaction_Amount, dtype: int32"
      ]
     },
     "execution_count": 39,
     "metadata": {},
     "output_type": "execute_result"
    }
   ],
   "source": [
    "df['Transaction_Amount'].describe().astype(int)"
   ]
  },
  {
   "cell_type": "code",
   "execution_count": 40,
   "id": "2f124a3b",
   "metadata": {},
   "outputs": [
    {
     "data": {
      "text/plain": [
       "<Axes: xlabel='Transaction_Amount', ylabel='Count'>"
      ]
     },
     "execution_count": 40,
     "metadata": {},
     "output_type": "execute_result"
    },
    {
     "data": {
      "image/png": "[encoded data removed]",
      "text/plain": [
       "<Figure size 640x480 with 1 Axes>"
      ]
     },
     "metadata": {},
     "output_type": "display_data"
    }
   ],
   "source": [
    "sns.histplot(np.log1p(df[\"Transaction_Amount\"]), bins=100, kde=True, color='green')\n",
    "# plt.title(\"Transaction Amount Distribution (log scale)\")\n",
    "# plt.xlabel(\"log(Amount + 1)\")\n",
    "# plt.show()"
   ]
  },
  {
   "cell_type": "code",
   "execution_count": 41,
   "id": "8757ea0c",
   "metadata": {},
   "outputs": [
    {
     "data": {
      "text/plain": [
       "<Axes: xlabel='Fraud_Label', ylabel='Transaction_Amount'>"
      ]
     },
     "execution_count": 41,
     "metadata": {},
     "output_type": "execute_result"
    },
    {
     "data": {
      "image/png": "[encoded data removed]",
      "text/plain": [
       "<Figure size 640x480 with 1 Axes>"
      ]
     },
     "metadata": {},
     "output_type": "display_data"
    }
   ],
   "source": [
    "sns.boxplot(data= df[df[\"Transaction_Amount\"] < 50000], x=\"Fraud_Label\", y=\"Transaction_Amount\")\n"
   ]
  },
  {
   "cell_type": "markdown",
   "id": "86b40e9a",
   "metadata": {},
   "source": [
    "There are huge number of outliers in the data."
   ]
  },
  {
   "cell_type": "code",
   "execution_count": 42,
   "id": "4fd1fb7c",
   "metadata": {},
   "outputs": [
    {
     "data": {
      "text/plain": [
       "['Transaction_ID',\n",
       " 'User_ID',\n",
       " 'Transaction_Amount',\n",
       " 'Transaction_Type',\n",
       " 'Timestamp',\n",
       " 'Account_Balance',\n",
       " 'Device_Type',\n",
       " 'Location',\n",
       " 'Merchant_Category',\n",
       " 'IP_Address_Flag',\n",
       " 'Previous_Fraudulent_Activity',\n",
       " 'Daily_Transaction_Count',\n",
       " 'Avg_Transaction_Amount_7d',\n",
       " 'Failed_Transaction_Count_7d',\n",
       " 'Card_Type',\n",
       " 'Card_Age',\n",
       " 'Transaction_Distance',\n",
       " 'Authentication_Method',\n",
       " 'Risk_Score',\n",
       " 'Is_Weekend',\n",
       " 'Fraud_Label']"
      ]
     },
     "execution_count": 42,
     "metadata": {},
     "output_type": "execute_result"
    }
   ],
   "source": [
    "df.columns.to_list()"
   ]
  },
  {
   "cell_type": "code",
   "execution_count": 43,
   "id": "458070b9",
   "metadata": {},
   "outputs": [
    {
     "data": {
      "text/plain": [
       "Daily_Transaction_Count\n",
       "3     3634\n",
       "10    3623\n",
       "11    3620\n",
       "4     3606\n",
       "2     3605\n",
       "1     3598\n",
       "12    3586\n",
       "5     3582\n",
       "7     3574\n",
       "14    3571\n",
       "9     3538\n",
       "13    3524\n",
       "6     3521\n",
       "8     3418\n",
       "Name: count, dtype: int64"
      ]
     },
     "execution_count": 43,
     "metadata": {},
     "output_type": "execute_result"
    }
   ],
   "source": [
    "df[\"Daily_Transaction_Count\"].value_counts()"
   ]
  },
  {
   "cell_type": "code",
   "execution_count": 44,
   "id": "2119a48f",
   "metadata": {},
   "outputs": [],
   "source": [
    "fraud_users = df[df['Fraud_Label'] == 1]['User_ID'].value_counts().head(10)"
   ]
  },
  {
   "cell_type": "code",
   "execution_count": 45,
   "id": "cc699d7f",
   "metadata": {},
   "outputs": [
    {
     "data": {
      "text/plain": [
       "User_ID\n",
       "USER_7026    8\n",
       "USER_6179    7\n",
       "USER_2403    7\n",
       "USER_1560    7\n",
       "USER_3800    7\n",
       "USER_9983    7\n",
       "USER_7473    7\n",
       "USER_1689    7\n",
       "USER_2268    7\n",
       "USER_3933    7\n",
       "Name: count, dtype: int64"
      ]
     },
     "execution_count": 45,
     "metadata": {},
     "output_type": "execute_result"
    }
   ],
   "source": [
    "fraud_users"
   ]
  },
  {
   "cell_type": "code",
   "execution_count": 46,
   "id": "06202258",
   "metadata": {},
   "outputs": [],
   "source": [
    "df.drop(columns=\"Timestamp\", inplace=True)"
   ]
  },
  {
   "cell_type": "code",
   "execution_count": 47,
   "id": "48dbf749",
   "metadata": {},
   "outputs": [
    {
     "name": "stdout",
     "output_type": "stream",
     "text": [
      "<class 'pandas.core.frame.DataFrame'>\n",
      "RangeIndex: 50000 entries, 0 to 49999\n",
      "Data columns (total 20 columns):\n",
      " #   Column                        Non-Null Count  Dtype  \n",
      "---  ------                        --------------  -----  \n",
      " 0   Transaction_ID                50000 non-null  object \n",
      " 1   User_ID                       50000 non-null  object \n",
      " 2   Transaction_Amount            50000 non-null  float64\n",
      " 3   Transaction_Type              50000 non-null  object \n",
      " 4   Account_Balance               50000 non-null  float64\n",
      " 5   Device_Type                   50000 non-null  object \n",
      " 6   Location                      50000 non-null  object \n",
      " 7   Merchant_Category             50000 non-null  object \n",
      " 8   IP_Address_Flag               50000 non-null  int64  \n",
      " 9   Previous_Fraudulent_Activity  50000 non-null  int64  \n",
      " 10  Daily_Transaction_Count       50000 non-null  int64  \n",
      " 11  Avg_Transaction_Amount_7d     50000 non-null  float64\n",
      " 12  Failed_Transaction_Count_7d   50000 non-null  int64  \n",
      " 13  Card_Type                     50000 non-null  object \n",
      " 14  Card_Age                      50000 non-null  int64  \n",
      " 15  Transaction_Distance          50000 non-null  float64\n",
      " 16  Authentication_Method         50000 non-null  object \n",
      " 17  Risk_Score                    50000 non-null  float64\n",
      " 18  Is_Weekend                    50000 non-null  int64  \n",
      " 19  Fraud_Label                   50000 non-null  int64  \n",
      "dtypes: float64(5), int64(7), object(8)\n",
      "memory usage: 7.6+ MB\n"
     ]
    }
   ],
   "source": [
    "df.info()"
   ]
  },
  {
   "cell_type": "code",
   "execution_count": 48,
   "id": "a3e77e9a",
   "metadata": {},
   "outputs": [
    {
     "name": "stdout",
     "output_type": "stream",
     "text": [
      "                              Transaction_Amount  Account_Balance  \\\n",
      "Transaction_Amount                      1.000000        -0.002380   \n",
      "Account_Balance                        -0.002380         1.000000   \n",
      "IP_Address_Flag                        -0.001620        -0.001210   \n",
      "Previous_Fraudulent_Activity            0.001668        -0.002314   \n",
      "Daily_Transaction_Count                 0.002149         0.006041   \n",
      "Avg_Transaction_Amount_7d              -0.006255        -0.001738   \n",
      "Failed_Transaction_Count_7d             0.001247        -0.000186   \n",
      "Card_Age                                0.002294         0.000717   \n",
      "Transaction_Distance                    0.007935         0.001748   \n",
      "Risk_Score                              0.005606        -0.005262   \n",
      "Is_Weekend                              0.001348         0.000557   \n",
      "Fraud_Label                             0.001901        -0.003153   \n",
      "\n",
      "                              IP_Address_Flag  Previous_Fraudulent_Activity  \\\n",
      "Transaction_Amount                  -0.001620                      0.001668   \n",
      "Account_Balance                     -0.001210                     -0.002314   \n",
      "IP_Address_Flag                      1.000000                     -0.008298   \n",
      "Previous_Fraudulent_Activity        -0.008298                      1.000000   \n",
      "Daily_Transaction_Count              0.001815                      0.000492   \n",
      "Avg_Transaction_Amount_7d           -0.004845                      0.001600   \n",
      "Failed_Transaction_Count_7d          0.010370                     -0.000352   \n",
      "Card_Age                            -0.003143                     -0.006713   \n",
      "Transaction_Distance                -0.003941                      0.005740   \n",
      "Risk_Score                          -0.004064                     -0.002815   \n",
      "Is_Weekend                           0.004979                     -0.000473   \n",
      "Fraud_Label                          0.003028                     -0.000718   \n",
      "\n",
      "                              Daily_Transaction_Count  \\\n",
      "Transaction_Amount                           0.002149   \n",
      "Account_Balance                              0.006041   \n",
      "IP_Address_Flag                              0.001815   \n",
      "Previous_Fraudulent_Activity                 0.000492   \n",
      "Daily_Transaction_Count                      1.000000   \n",
      "Avg_Transaction_Amount_7d                    0.004882   \n",
      "Failed_Transaction_Count_7d                 -0.007820   \n",
      "Card_Age                                    -0.001516   \n",
      "Transaction_Distance                        -0.001842   \n",
      "Risk_Score                                  -0.007572   \n",
      "Is_Weekend                                  -0.006148   \n",
      "Fraud_Label                                 -0.007065   \n",
      "\n",
      "                              Avg_Transaction_Amount_7d  \\\n",
      "Transaction_Amount                            -0.006255   \n",
      "Account_Balance                               -0.001738   \n",
      "IP_Address_Flag                               -0.004845   \n",
      "Previous_Fraudulent_Activity                   0.001600   \n",
      "Daily_Transaction_Count                        0.004882   \n",
      "Avg_Transaction_Amount_7d                      1.000000   \n",
      "Failed_Transaction_Count_7d                    0.006583   \n",
      "Card_Age                                      -0.008735   \n",
      "Transaction_Distance                          -0.003066   \n",
      "Risk_Score                                     0.004977   \n",
      "Is_Weekend                                     0.007762   \n",
      "Fraud_Label                                    0.000703   \n",
      "\n",
      "                              Failed_Transaction_Count_7d  Card_Age  \\\n",
      "Transaction_Amount                               0.001247  0.002294   \n",
      "Account_Balance                                 -0.000186  0.000717   \n",
      "IP_Address_Flag                                  0.010370 -0.003143   \n",
      "Previous_Fraudulent_Activity                    -0.000352 -0.006713   \n",
      "Daily_Transaction_Count                         -0.007820 -0.001516   \n",
      "Avg_Transaction_Amount_7d                        0.006583 -0.008735   \n",
      "Failed_Transaction_Count_7d                      1.000000 -0.004570   \n",
      "Card_Age                                        -0.004570  1.000000   \n",
      "Transaction_Distance                            -0.006997 -0.003339   \n",
      "Risk_Score                                       0.000814 -0.001385   \n",
      "Is_Weekend                                      -0.003335  0.003406   \n",
      "Fraud_Label                                      0.509871 -0.003120   \n",
      "\n",
      "                              Transaction_Distance  Risk_Score  Is_Weekend  \\\n",
      "Transaction_Amount                        0.007935    0.005606    0.001348   \n",
      "Account_Balance                           0.001748   -0.005262    0.000557   \n",
      "IP_Address_Flag                          -0.003941   -0.004064    0.004979   \n",
      "Previous_Fraudulent_Activity              0.005740   -0.002815   -0.000473   \n",
      "Daily_Transaction_Count                  -0.001842   -0.007572   -0.006148   \n",
      "Avg_Transaction_Amount_7d                -0.003066    0.004977    0.007762   \n",
      "Failed_Transaction_Count_7d              -0.006997    0.000814   -0.003335   \n",
      "Card_Age                                 -0.003339   -0.001385    0.003406   \n",
      "Transaction_Distance                      1.000000   -0.001902   -0.010592   \n",
      "Risk_Score                               -0.001902    1.000000   -0.005236   \n",
      "Is_Weekend                               -0.010592   -0.005236    1.000000   \n",
      "Fraud_Label                              -0.000116    0.385810    0.000064   \n",
      "\n",
      "                              Fraud_Label  \n",
      "Transaction_Amount               0.001901  \n",
      "Account_Balance                 -0.003153  \n",
      "IP_Address_Flag                  0.003028  \n",
      "Previous_Fraudulent_Activity    -0.000718  \n",
      "Daily_Transaction_Count         -0.007065  \n",
      "Avg_Transaction_Amount_7d        0.000703  \n",
      "Failed_Transaction_Count_7d      0.509871  \n",
      "Card_Age                        -0.003120  \n",
      "Transaction_Distance            -0.000116  \n",
      "Risk_Score                       0.385810  \n",
      "Is_Weekend                       0.000064  \n",
      "Fraud_Label                      1.000000  \n"
     ]
    }
   ],
   "source": [
    "# Correlation matrix\n",
    "df_corr = df[['Transaction_Amount',\n",
    " 'Account_Balance',\n",
    " 'IP_Address_Flag',\n",
    " 'Previous_Fraudulent_Activity',\n",
    " 'Daily_Transaction_Count',\n",
    " 'Avg_Transaction_Amount_7d',\n",
    " 'Failed_Transaction_Count_7d',\n",
    " 'Card_Age',\n",
    " 'Transaction_Distance',\n",
    " 'Risk_Score',\n",
    " 'Is_Weekend',\n",
    " 'Fraud_Label']].corr()\n",
    "\n",
    "\n",
    "print(df_corr)"
   ]
  },
  {
   "cell_type": "code",
   "execution_count": 49,
   "id": "bd7db9d5",
   "metadata": {},
   "outputs": [
    {
     "data": {
      "text/plain": [
       "<Axes: >"
      ]
     },
     "execution_count": 49,
     "metadata": {},
     "output_type": "execute_result"
    },
    {
     "data": {
      "image/png": "[encoded data removed]",
      "text/plain": [
       "<Figure size 640x480 with 2 Axes>"
      ]
     },
     "metadata": {},
     "output_type": "display_data"
    }
   ],
   "source": [
    "# visualizing the correlation matrix with heat maps\n",
    "sns.heatmap(data=df_corr, annot=True, cmap=\"coolwarm\", fmt=\".2f\")"
   ]
  },
  {
   "cell_type": "markdown",
   "id": "8d9d45fb",
   "metadata": {},
   "source": [
    "## FEATURE SELECTION"
   ]
  },
  {
   "cell_type": "code",
   "execution_count": 50,
   "id": "b2f18659",
   "metadata": {},
   "outputs": [],
   "source": [
    "from sklearn.model_selection import train_test_split\n",
    "from sklearn.preprocessing import StandardScaler\n",
    "from sklearn.linear_model import LogisticRegression\n",
    "from sklearn.metrics import classification_report, confusion_matrix\n",
    "from sklearn.pipeline import Pipeline\n",
    "from sklearn.compose import ColumnTransformer\n",
    "from sklearn.preprocessing import OneHotEncoder"
   ]
  },
  {
   "cell_type": "code",
   "execution_count": 51,
   "id": "d1c498f9",
   "metadata": {},
   "outputs": [
    {
     "data": {
      "text/html": [
       "<div>\n",
       "<style scoped>\n",
       "    .dataframe tbody tr th:only-of-type {\n",
       "        vertical-align: middle;\n",
       "    }\n",
       "\n",
       "    .dataframe tbody tr th {\n",
       "        vertical-align: top;\n",
       "    }\n",
       "\n",
       "    .dataframe thead th {\n",
       "        text-align: right;\n",
       "    }\n",
       "</style>\n",
       "<table border=\"1\" class=\"dataframe\">\n",
       "  <thead>\n",
       "    <tr style=\"text-align: right;\">\n",
       "      <th></th>\n",
       "      <th>Transaction_ID</th>\n",
       "      <th>User_ID</th>\n",
       "      <th>Transaction_Amount</th>\n",
       "      <th>Transaction_Type</th>\n",
       "      <th>Account_Balance</th>\n",
       "      <th>Device_Type</th>\n",
       "      <th>Location</th>\n",
       "      <th>Merchant_Category</th>\n",
       "      <th>IP_Address_Flag</th>\n",
       "      <th>Previous_Fraudulent_Activity</th>\n",
       "      <th>Daily_Transaction_Count</th>\n",
       "      <th>Avg_Transaction_Amount_7d</th>\n",
       "      <th>Failed_Transaction_Count_7d</th>\n",
       "      <th>Card_Type</th>\n",
       "      <th>Card_Age</th>\n",
       "      <th>Transaction_Distance</th>\n",
       "      <th>Authentication_Method</th>\n",
       "      <th>Risk_Score</th>\n",
       "      <th>Is_Weekend</th>\n",
       "      <th>Fraud_Label</th>\n",
       "    </tr>\n",
       "  </thead>\n",
       "  <tbody>\n",
       "    <tr>\n",
       "      <th>0</th>\n",
       "      <td>TXN_33553</td>\n",
       "      <td>USER_1834</td>\n",
       "      <td>39.79</td>\n",
       "      <td>POS</td>\n",
       "      <td>93213.17</td>\n",
       "      <td>Laptop</td>\n",
       "      <td>Sydney</td>\n",
       "      <td>Travel</td>\n",
       "      <td>0</td>\n",
       "      <td>0</td>\n",
       "      <td>7</td>\n",
       "      <td>437.63</td>\n",
       "      <td>3</td>\n",
       "      <td>Amex</td>\n",
       "      <td>65</td>\n",
       "      <td>883.17</td>\n",
       "      <td>Biometric</td>\n",
       "      <td>0.8494</td>\n",
       "      <td>0</td>\n",
       "      <td>0</td>\n",
       "    </tr>\n",
       "    <tr>\n",
       "      <th>1</th>\n",
       "      <td>TXN_9427</td>\n",
       "      <td>USER_7875</td>\n",
       "      <td>1.19</td>\n",
       "      <td>Bank Transfer</td>\n",
       "      <td>75725.25</td>\n",
       "      <td>Mobile</td>\n",
       "      <td>New York</td>\n",
       "      <td>Clothing</td>\n",
       "      <td>0</td>\n",
       "      <td>0</td>\n",
       "      <td>13</td>\n",
       "      <td>478.76</td>\n",
       "      <td>4</td>\n",
       "      <td>Mastercard</td>\n",
       "      <td>186</td>\n",
       "      <td>2203.36</td>\n",
       "      <td>Password</td>\n",
       "      <td>0.0959</td>\n",
       "      <td>0</td>\n",
       "      <td>1</td>\n",
       "    </tr>\n",
       "    <tr>\n",
       "      <th>2</th>\n",
       "      <td>TXN_199</td>\n",
       "      <td>USER_2734</td>\n",
       "      <td>28.96</td>\n",
       "      <td>Online</td>\n",
       "      <td>1588.96</td>\n",
       "      <td>Tablet</td>\n",
       "      <td>Mumbai</td>\n",
       "      <td>Restaurants</td>\n",
       "      <td>0</td>\n",
       "      <td>0</td>\n",
       "      <td>14</td>\n",
       "      <td>50.01</td>\n",
       "      <td>4</td>\n",
       "      <td>Visa</td>\n",
       "      <td>226</td>\n",
       "      <td>1909.29</td>\n",
       "      <td>Biometric</td>\n",
       "      <td>0.8400</td>\n",
       "      <td>0</td>\n",
       "      <td>1</td>\n",
       "    </tr>\n",
       "    <tr>\n",
       "      <th>3</th>\n",
       "      <td>TXN_12447</td>\n",
       "      <td>USER_2617</td>\n",
       "      <td>254.32</td>\n",
       "      <td>ATM Withdrawal</td>\n",
       "      <td>76807.20</td>\n",
       "      <td>Tablet</td>\n",
       "      <td>New York</td>\n",
       "      <td>Clothing</td>\n",
       "      <td>0</td>\n",
       "      <td>0</td>\n",
       "      <td>8</td>\n",
       "      <td>182.48</td>\n",
       "      <td>4</td>\n",
       "      <td>Visa</td>\n",
       "      <td>76</td>\n",
       "      <td>1311.86</td>\n",
       "      <td>OTP</td>\n",
       "      <td>0.7935</td>\n",
       "      <td>0</td>\n",
       "      <td>1</td>\n",
       "    </tr>\n",
       "    <tr>\n",
       "      <th>4</th>\n",
       "      <td>TXN_39489</td>\n",
       "      <td>USER_2014</td>\n",
       "      <td>31.28</td>\n",
       "      <td>POS</td>\n",
       "      <td>92354.66</td>\n",
       "      <td>Mobile</td>\n",
       "      <td>Mumbai</td>\n",
       "      <td>Electronics</td>\n",
       "      <td>0</td>\n",
       "      <td>1</td>\n",
       "      <td>14</td>\n",
       "      <td>328.69</td>\n",
       "      <td>4</td>\n",
       "      <td>Mastercard</td>\n",
       "      <td>140</td>\n",
       "      <td>966.98</td>\n",
       "      <td>Password</td>\n",
       "      <td>0.3819</td>\n",
       "      <td>1</td>\n",
       "      <td>1</td>\n",
       "    </tr>\n",
       "  </tbody>\n",
       "</table>\n",
       "</div>"
      ],
      "text/plain": [
       "  Transaction_ID    User_ID  Transaction_Amount Transaction_Type  \\\n",
       "0      TXN_33553  USER_1834               39.79              POS   \n",
       "1       TXN_9427  USER_7875                1.19    Bank Transfer   \n",
       "2        TXN_199  USER_2734               28.96           Online   \n",
       "3      TXN_12447  USER_2617              254.32   ATM Withdrawal   \n",
       "4      TXN_39489  USER_2014               31.28              POS   \n",
       "\n",
       "   Account_Balance Device_Type  Location Merchant_Category  IP_Address_Flag  \\\n",
       "0         93213.17      Laptop    Sydney            Travel                0   \n",
       "1         75725.25      Mobile  New York          Clothing                0   \n",
       "2          1588.96      Tablet    Mumbai       Restaurants                0   \n",
       "3         76807.20      Tablet  New York          Clothing                0   \n",
       "4         92354.66      Mobile    Mumbai       Electronics                0   \n",
       "\n",
       "   Previous_Fraudulent_Activity  Daily_Transaction_Count  \\\n",
       "0                             0                        7   \n",
       "1                             0                       13   \n",
       "2                             0                       14   \n",
       "3                             0                        8   \n",
       "4                             1                       14   \n",
       "\n",
       "   Avg_Transaction_Amount_7d  Failed_Transaction_Count_7d   Card_Type  \\\n",
       "0                     437.63                            3        Amex   \n",
       "1                     478.76                            4  Mastercard   \n",
       "2                      50.01                            4        Visa   \n",
       "3                     182.48                            4        Visa   \n",
       "4                     328.69                            4  Mastercard   \n",
       "\n",
       "   Card_Age  Transaction_Distance Authentication_Method  Risk_Score  \\\n",
       "0        65                883.17             Biometric      0.8494   \n",
       "1       186               2203.36              Password      0.0959   \n",
       "2       226               1909.29             Biometric      0.8400   \n",
       "3        76               1311.86                   OTP      0.7935   \n",
       "4       140                966.98              Password      0.3819   \n",
       "\n",
       "   Is_Weekend  Fraud_Label  \n",
       "0           0            0  \n",
       "1           0            1  \n",
       "2           0            1  \n",
       "3           0            1  \n",
       "4           1            1  "
      ]
     },
     "execution_count": 51,
     "metadata": {},
     "output_type": "execute_result"
    }
   ],
   "source": [
    "df.head()"
   ]
  },
  {
   "cell_type": "code",
   "execution_count": null,
   "id": "f43d2d40",
   "metadata": {},
   "outputs": [],
   "source": [
    "df_model_data = df.drop(['Transaction_ID',\n",
    " 'User_ID',\n",
    " 'Device_Type',\n",
    " 'Location',\n",
    " 'Merchant_Category',\n",
    " 'Card_Type',\n",
    " 'Is_Weekend'], axis=1)\n"
   ]
  },
  {
   "cell_type": "code",
   "execution_count": 53,
   "id": "5f8cc16a",
   "metadata": {},
   "outputs": [
    {
     "data": {
      "text/html": [
       "<div>\n",
       "<style scoped>\n",
       "    .dataframe tbody tr th:only-of-type {\n",
       "        vertical-align: middle;\n",
       "    }\n",
       "\n",
       "    .dataframe tbody tr th {\n",
       "        vertical-align: top;\n",
       "    }\n",
       "\n",
       "    .dataframe thead th {\n",
       "        text-align: right;\n",
       "    }\n",
       "</style>\n",
       "<table border=\"1\" class=\"dataframe\">\n",
       "  <thead>\n",
       "    <tr style=\"text-align: right;\">\n",
       "      <th></th>\n",
       "      <th>Transaction_Amount</th>\n",
       "      <th>Transaction_Type</th>\n",
       "      <th>Account_Balance</th>\n",
       "      <th>IP_Address_Flag</th>\n",
       "      <th>Previous_Fraudulent_Activity</th>\n",
       "      <th>Daily_Transaction_Count</th>\n",
       "      <th>Avg_Transaction_Amount_7d</th>\n",
       "      <th>Failed_Transaction_Count_7d</th>\n",
       "      <th>Card_Age</th>\n",
       "      <th>Transaction_Distance</th>\n",
       "      <th>Authentication_Method</th>\n",
       "      <th>Risk_Score</th>\n",
       "      <th>Fraud_Label</th>\n",
       "    </tr>\n",
       "  </thead>\n",
       "  <tbody>\n",
       "    <tr>\n",
       "      <th>0</th>\n",
       "      <td>39.79</td>\n",
       "      <td>POS</td>\n",
       "      <td>93213.17</td>\n",
       "      <td>0</td>\n",
       "      <td>0</td>\n",
       "      <td>7</td>\n",
       "      <td>437.63</td>\n",
       "      <td>3</td>\n",
       "      <td>65</td>\n",
       "      <td>883.17</td>\n",
       "      <td>Biometric</td>\n",
       "      <td>0.8494</td>\n",
       "      <td>0</td>\n",
       "    </tr>\n",
       "    <tr>\n",
       "      <th>1</th>\n",
       "      <td>1.19</td>\n",
       "      <td>Bank Transfer</td>\n",
       "      <td>75725.25</td>\n",
       "      <td>0</td>\n",
       "      <td>0</td>\n",
       "      <td>13</td>\n",
       "      <td>478.76</td>\n",
       "      <td>4</td>\n",
       "      <td>186</td>\n",
       "      <td>2203.36</td>\n",
       "      <td>Password</td>\n",
       "      <td>0.0959</td>\n",
       "      <td>1</td>\n",
       "    </tr>\n",
       "    <tr>\n",
       "      <th>2</th>\n",
       "      <td>28.96</td>\n",
       "      <td>Online</td>\n",
       "      <td>1588.96</td>\n",
       "      <td>0</td>\n",
       "      <td>0</td>\n",
       "      <td>14</td>\n",
       "      <td>50.01</td>\n",
       "      <td>4</td>\n",
       "      <td>226</td>\n",
       "      <td>1909.29</td>\n",
       "      <td>Biometric</td>\n",
       "      <td>0.8400</td>\n",
       "      <td>1</td>\n",
       "    </tr>\n",
       "    <tr>\n",
       "      <th>3</th>\n",
       "      <td>254.32</td>\n",
       "      <td>ATM Withdrawal</td>\n",
       "      <td>76807.20</td>\n",
       "      <td>0</td>\n",
       "      <td>0</td>\n",
       "      <td>8</td>\n",
       "      <td>182.48</td>\n",
       "      <td>4</td>\n",
       "      <td>76</td>\n",
       "      <td>1311.86</td>\n",
       "      <td>OTP</td>\n",
       "      <td>0.7935</td>\n",
       "      <td>1</td>\n",
       "    </tr>\n",
       "    <tr>\n",
       "      <th>4</th>\n",
       "      <td>31.28</td>\n",
       "      <td>POS</td>\n",
       "      <td>92354.66</td>\n",
       "      <td>0</td>\n",
       "      <td>1</td>\n",
       "      <td>14</td>\n",
       "      <td>328.69</td>\n",
       "      <td>4</td>\n",
       "      <td>140</td>\n",
       "      <td>966.98</td>\n",
       "      <td>Password</td>\n",
       "      <td>0.3819</td>\n",
       "      <td>1</td>\n",
       "    </tr>\n",
       "  </tbody>\n",
       "</table>\n",
       "</div>"
      ],
      "text/plain": [
       "   Transaction_Amount Transaction_Type  Account_Balance  IP_Address_Flag  \\\n",
       "0               39.79              POS         93213.17                0   \n",
       "1                1.19    Bank Transfer         75725.25                0   \n",
       "2               28.96           Online          1588.96                0   \n",
       "3              254.32   ATM Withdrawal         76807.20                0   \n",
       "4               31.28              POS         92354.66                0   \n",
       "\n",
       "   Previous_Fraudulent_Activity  Daily_Transaction_Count  \\\n",
       "0                             0                        7   \n",
       "1                             0                       13   \n",
       "2                             0                       14   \n",
       "3                             0                        8   \n",
       "4                             1                       14   \n",
       "\n",
       "   Avg_Transaction_Amount_7d  Failed_Transaction_Count_7d  Card_Age  \\\n",
       "0                     437.63                            3        65   \n",
       "1                     478.76                            4       186   \n",
       "2                      50.01                            4       226   \n",
       "3                     182.48                            4        76   \n",
       "4                     328.69                            4       140   \n",
       "\n",
       "   Transaction_Distance Authentication_Method  Risk_Score  Fraud_Label  \n",
       "0                883.17             Biometric      0.8494            0  \n",
       "1               2203.36              Password      0.0959            1  \n",
       "2               1909.29             Biometric      0.8400            1  \n",
       "3               1311.86                   OTP      0.7935            1  \n",
       "4                966.98              Password      0.3819            1  "
      ]
     },
     "execution_count": 53,
     "metadata": {},
     "output_type": "execute_result"
    }
   ],
   "source": [
    "df_model_data.head()"
   ]
  },
  {
   "cell_type": "code",
   "execution_count": 54,
   "id": "042432b7",
   "metadata": {},
   "outputs": [
    {
     "data": {
      "text/plain": [
       "['Transaction_Amount',\n",
       " 'Transaction_Type',\n",
       " 'Account_Balance',\n",
       " 'IP_Address_Flag',\n",
       " 'Previous_Fraudulent_Activity',\n",
       " 'Daily_Transaction_Count',\n",
       " 'Avg_Transaction_Amount_7d',\n",
       " 'Failed_Transaction_Count_7d',\n",
       " 'Card_Age',\n",
       " 'Transaction_Distance',\n",
       " 'Authentication_Method',\n",
       " 'Risk_Score',\n",
       " 'Fraud_Label']"
      ]
     },
     "execution_count": 54,
     "metadata": {},
     "output_type": "execute_result"
    }
   ],
   "source": [
    "df_model_data.columns.to_list()"
   ]
  },
  {
   "cell_type": "code",
   "execution_count": 55,
   "id": "a23b0421",
   "metadata": {},
   "outputs": [],
   "source": [
    "categorical = ['Transaction_Type', 'Authentication_Method']\n",
    "numerical = ['Transaction_Amount',\n",
    " 'Account_Balance',\n",
    " 'IP_Address_Flag',\n",
    " 'Previous_Fraudulent_Activity',\n",
    " 'Daily_Transaction_Count',\n",
    " 'Avg_Transaction_Amount_7d',\n",
    " 'Failed_Transaction_Count_7d',\n",
    " 'Card_Age',\n",
    " 'Transaction_Distance',\n",
    " 'Risk_Score',\n",
    " 'Fraud_Label']"
   ]
  },
  {
   "cell_type": "code",
   "execution_count": null,
   "id": "8335c624",
   "metadata": {},
   "outputs": [],
   "source": [
    "y = df_model_data['Fraud_Label']\n",
    "x = df_model_data.drop('Fraud_Label', axis=1)"
   ]
  }
 ],
 "metadata": {
  "kernelspec": {
   "display_name": "Python 3",
   "language": "python",
   "name": "python3"
  },
  "language_info": {
   "codemirror_mode": {
    "name": "ipython",
    "version": 3
   },
   "file_extension": ".py",
   "mimetype": "text/x-python",
   "name": "python",
   "nbconvert_exporter": "python",
   "pygments_lexer": "ipython3",
   "version": "3.11.9"
  }
 },
 "nbformat": 4,
 "nbformat_minor": 5
}
